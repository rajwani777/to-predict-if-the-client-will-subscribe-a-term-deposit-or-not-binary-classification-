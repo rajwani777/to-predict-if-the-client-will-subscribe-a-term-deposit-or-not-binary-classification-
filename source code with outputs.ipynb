{
 "cells": [
  {
   "cell_type": "code",
   "execution_count": 1,
   "id": "1e3804b3",
   "metadata": {
    "execution": {
     "iopub.execute_input": "2023-01-29T06:03:09.128206Z",
     "iopub.status.busy": "2023-01-29T06:03:09.127741Z",
     "iopub.status.idle": "2023-01-29T06:03:10.487575Z",
     "shell.execute_reply": "2023-01-29T06:03:10.485347Z"
    },
    "papermill": {
     "duration": 1.373634,
     "end_time": "2023-01-29T06:03:10.490843",
     "exception": false,
     "start_time": "2023-01-29T06:03:09.117209",
     "status": "completed"
    },
    "tags": []
   },
   "outputs": [],
   "source": [
    "import pandas as pd\n",
    "import matplotlib.pyplot as plt\n",
    "from sklearn.preprocessing import LabelEncoder,OneHotEncoder\n",
    "from sklearn.metrics import accuracy_score\n",
    "import numpy as np\n",
    "import seaborn as sns\n",
    "from sklearn.metrics import confusion_matrix\n",
    "from sklearn.metrics import precision_score, recall_score,f1_score,roc_auc_score, roc_curve\n",
    "import warnings\n",
    "warnings.simplefilter('ignore')"
   ]
  },
  {
   "cell_type": "markdown",
   "id": "b9b2142d",
   "metadata": {
    "papermill": {
     "duration": 0.007023,
     "end_time": "2023-01-29T06:03:10.505845",
     "exception": false,
     "start_time": "2023-01-29T06:03:10.498822",
     "status": "completed"
    },
    "tags": []
   },
   "source": [
    "# data exploration and information gathering"
   ]
  },
  {
   "cell_type": "code",
   "execution_count": 2,
   "id": "433aaf1a",
   "metadata": {
    "execution": {
     "iopub.execute_input": "2023-01-29T06:03:10.522689Z",
     "iopub.status.busy": "2023-01-29T06:03:10.522174Z",
     "iopub.status.idle": "2023-01-29T06:03:10.559695Z",
     "shell.execute_reply": "2023-01-29T06:03:10.558837Z"
    },
    "papermill": {
     "duration": 0.048829,
     "end_time": "2023-01-29T06:03:10.562030",
     "exception": false,
     "start_time": "2023-01-29T06:03:10.513201",
     "status": "completed"
    },
    "tags": []
   },
   "outputs": [],
   "source": [
    "dataset = pd.read_csv('/kaggle/input/bank-marketing-uci/bank.csv',sep =';')\n"
   ]
  },
  {
   "cell_type": "code",
   "execution_count": 3,
   "id": "4dba4783",
   "metadata": {
    "execution": {
     "iopub.execute_input": "2023-01-29T06:03:10.579000Z",
     "iopub.status.busy": "2023-01-29T06:03:10.578394Z",
     "iopub.status.idle": "2023-01-29T06:03:10.612043Z",
     "shell.execute_reply": "2023-01-29T06:03:10.609811Z"
    },
    "papermill": {
     "duration": 0.044732,
     "end_time": "2023-01-29T06:03:10.614406",
     "exception": false,
     "start_time": "2023-01-29T06:03:10.569674",
     "status": "completed"
    },
    "tags": []
   },
   "outputs": [
    {
     "name": "stdout",
     "output_type": "stream",
     "text": [
      "<class 'pandas.core.frame.DataFrame'>\n",
      "RangeIndex: 4521 entries, 0 to 4520\n",
      "Data columns (total 17 columns):\n",
      " #   Column     Non-Null Count  Dtype \n",
      "---  ------     --------------  ----- \n",
      " 0   age        4521 non-null   int64 \n",
      " 1   job        4521 non-null   object\n",
      " 2   marital    4521 non-null   object\n",
      " 3   education  4521 non-null   object\n",
      " 4   default    4521 non-null   object\n",
      " 5   balance    4521 non-null   int64 \n",
      " 6   housing    4521 non-null   object\n",
      " 7   loan       4521 non-null   object\n",
      " 8   contact    4521 non-null   object\n",
      " 9   day        4521 non-null   int64 \n",
      " 10  month      4521 non-null   object\n",
      " 11  duration   4521 non-null   int64 \n",
      " 12  campaign   4521 non-null   int64 \n",
      " 13  pdays      4521 non-null   int64 \n",
      " 14  previous   4521 non-null   int64 \n",
      " 15  poutcome   4521 non-null   object\n",
      " 16  y          4521 non-null   object\n",
      "dtypes: int64(7), object(10)\n",
      "memory usage: 600.6+ KB\n"
     ]
    }
   ],
   "source": [
    "dataset.info()"
   ]
  },
  {
   "cell_type": "code",
   "execution_count": 4,
   "id": "12b9109a",
   "metadata": {
    "execution": {
     "iopub.execute_input": "2023-01-29T06:03:10.632116Z",
     "iopub.status.busy": "2023-01-29T06:03:10.631420Z",
     "iopub.status.idle": "2023-01-29T06:03:10.646087Z",
     "shell.execute_reply": "2023-01-29T06:03:10.644487Z"
    },
    "papermill": {
     "duration": 0.026628,
     "end_time": "2023-01-29T06:03:10.649228",
     "exception": false,
     "start_time": "2023-01-29T06:03:10.622600",
     "status": "completed"
    },
    "tags": []
   },
   "outputs": [
    {
     "data": {
      "text/plain": [
       "age          0\n",
       "job          0\n",
       "marital      0\n",
       "education    0\n",
       "default      0\n",
       "balance      0\n",
       "housing      0\n",
       "loan         0\n",
       "contact      0\n",
       "day          0\n",
       "month        0\n",
       "duration     0\n",
       "campaign     0\n",
       "pdays        0\n",
       "previous     0\n",
       "poutcome     0\n",
       "y            0\n",
       "dtype: int64"
      ]
     },
     "execution_count": 4,
     "metadata": {},
     "output_type": "execute_result"
    }
   ],
   "source": [
    "dataset.isnull().sum() # checking whether we have null values or not"
   ]
  },
  {
   "cell_type": "code",
   "execution_count": 5,
   "id": "60fb01f8",
   "metadata": {
    "execution": {
     "iopub.execute_input": "2023-01-29T06:03:10.668261Z",
     "iopub.status.busy": "2023-01-29T06:03:10.667807Z",
     "iopub.status.idle": "2023-01-29T06:03:10.706746Z",
     "shell.execute_reply": "2023-01-29T06:03:10.705663Z"
    },
    "papermill": {
     "duration": 0.051202,
     "end_time": "2023-01-29T06:03:10.708667",
     "exception": false,
     "start_time": "2023-01-29T06:03:10.657465",
     "status": "completed"
    },
    "tags": []
   },
   "outputs": [
    {
     "data": {
      "text/html": [
       "<div>\n",
       "<style scoped>\n",
       "    .dataframe tbody tr th:only-of-type {\n",
       "        vertical-align: middle;\n",
       "    }\n",
       "\n",
       "    .dataframe tbody tr th {\n",
       "        vertical-align: top;\n",
       "    }\n",
       "\n",
       "    .dataframe thead th {\n",
       "        text-align: right;\n",
       "    }\n",
       "</style>\n",
       "<table border=\"1\" class=\"dataframe\">\n",
       "  <thead>\n",
       "    <tr style=\"text-align: right;\">\n",
       "      <th></th>\n",
       "      <th>age</th>\n",
       "      <th>balance</th>\n",
       "      <th>day</th>\n",
       "      <th>duration</th>\n",
       "      <th>campaign</th>\n",
       "      <th>pdays</th>\n",
       "      <th>previous</th>\n",
       "    </tr>\n",
       "  </thead>\n",
       "  <tbody>\n",
       "    <tr>\n",
       "      <th>count</th>\n",
       "      <td>4521.000000</td>\n",
       "      <td>4521.000000</td>\n",
       "      <td>4521.000000</td>\n",
       "      <td>4521.000000</td>\n",
       "      <td>4521.000000</td>\n",
       "      <td>4521.000000</td>\n",
       "      <td>4521.000000</td>\n",
       "    </tr>\n",
       "    <tr>\n",
       "      <th>mean</th>\n",
       "      <td>41.170095</td>\n",
       "      <td>1422.657819</td>\n",
       "      <td>15.915284</td>\n",
       "      <td>263.961292</td>\n",
       "      <td>2.793630</td>\n",
       "      <td>39.766645</td>\n",
       "      <td>0.542579</td>\n",
       "    </tr>\n",
       "    <tr>\n",
       "      <th>std</th>\n",
       "      <td>10.576211</td>\n",
       "      <td>3009.638142</td>\n",
       "      <td>8.247667</td>\n",
       "      <td>259.856633</td>\n",
       "      <td>3.109807</td>\n",
       "      <td>100.121124</td>\n",
       "      <td>1.693562</td>\n",
       "    </tr>\n",
       "    <tr>\n",
       "      <th>min</th>\n",
       "      <td>19.000000</td>\n",
       "      <td>-3313.000000</td>\n",
       "      <td>1.000000</td>\n",
       "      <td>4.000000</td>\n",
       "      <td>1.000000</td>\n",
       "      <td>-1.000000</td>\n",
       "      <td>0.000000</td>\n",
       "    </tr>\n",
       "    <tr>\n",
       "      <th>25%</th>\n",
       "      <td>33.000000</td>\n",
       "      <td>69.000000</td>\n",
       "      <td>9.000000</td>\n",
       "      <td>104.000000</td>\n",
       "      <td>1.000000</td>\n",
       "      <td>-1.000000</td>\n",
       "      <td>0.000000</td>\n",
       "    </tr>\n",
       "    <tr>\n",
       "      <th>50%</th>\n",
       "      <td>39.000000</td>\n",
       "      <td>444.000000</td>\n",
       "      <td>16.000000</td>\n",
       "      <td>185.000000</td>\n",
       "      <td>2.000000</td>\n",
       "      <td>-1.000000</td>\n",
       "      <td>0.000000</td>\n",
       "    </tr>\n",
       "    <tr>\n",
       "      <th>75%</th>\n",
       "      <td>49.000000</td>\n",
       "      <td>1480.000000</td>\n",
       "      <td>21.000000</td>\n",
       "      <td>329.000000</td>\n",
       "      <td>3.000000</td>\n",
       "      <td>-1.000000</td>\n",
       "      <td>0.000000</td>\n",
       "    </tr>\n",
       "    <tr>\n",
       "      <th>max</th>\n",
       "      <td>87.000000</td>\n",
       "      <td>71188.000000</td>\n",
       "      <td>31.000000</td>\n",
       "      <td>3025.000000</td>\n",
       "      <td>50.000000</td>\n",
       "      <td>871.000000</td>\n",
       "      <td>25.000000</td>\n",
       "    </tr>\n",
       "  </tbody>\n",
       "</table>\n",
       "</div>"
      ],
      "text/plain": [
       "               age       balance          day     duration     campaign  \\\n",
       "count  4521.000000   4521.000000  4521.000000  4521.000000  4521.000000   \n",
       "mean     41.170095   1422.657819    15.915284   263.961292     2.793630   \n",
       "std      10.576211   3009.638142     8.247667   259.856633     3.109807   \n",
       "min      19.000000  -3313.000000     1.000000     4.000000     1.000000   \n",
       "25%      33.000000     69.000000     9.000000   104.000000     1.000000   \n",
       "50%      39.000000    444.000000    16.000000   185.000000     2.000000   \n",
       "75%      49.000000   1480.000000    21.000000   329.000000     3.000000   \n",
       "max      87.000000  71188.000000    31.000000  3025.000000    50.000000   \n",
       "\n",
       "             pdays     previous  \n",
       "count  4521.000000  4521.000000  \n",
       "mean     39.766645     0.542579  \n",
       "std     100.121124     1.693562  \n",
       "min      -1.000000     0.000000  \n",
       "25%      -1.000000     0.000000  \n",
       "50%      -1.000000     0.000000  \n",
       "75%      -1.000000     0.000000  \n",
       "max     871.000000    25.000000  "
      ]
     },
     "execution_count": 5,
     "metadata": {},
     "output_type": "execute_result"
    }
   ],
   "source": [
    "dataset.describe()"
   ]
  },
  {
   "cell_type": "code",
   "execution_count": 6,
   "id": "b5cef8b2",
   "metadata": {
    "execution": {
     "iopub.execute_input": "2023-01-29T06:03:10.726939Z",
     "iopub.status.busy": "2023-01-29T06:03:10.725880Z",
     "iopub.status.idle": "2023-01-29T06:03:11.185145Z",
     "shell.execute_reply": "2023-01-29T06:03:11.184296Z"
    },
    "papermill": {
     "duration": 0.470829,
     "end_time": "2023-01-29T06:03:11.187434",
     "exception": false,
     "start_time": "2023-01-29T06:03:10.716605",
     "status": "completed"
    },
    "tags": []
   },
   "outputs": [
    {
     "data": {
      "image/png": "[encoded data removed]",
      "text/plain": [
       "<Figure size 432x288 with 1 Axes>"
      ]
     },
     "metadata": {
      "needs_background": "light"
     },
     "output_type": "display_data"
    },
    {
     "data": {
      "image/png": "[encoded data removed]",
      "text/plain": [
       "<Figure size 432x288 with 1 Axes>"
      ]
     },
     "metadata": {
      "needs_background": "light"
     },
     "output_type": "display_data"
    },
    {
     "data": {
      "image/png": "[encoded data removed]",
      "text/plain": [
       "<Figure size 432x288 with 1 Axes>"
      ]
     },
     "metadata": {
      "needs_background": "light"
     },
     "output_type": "display_data"
    }
   ],
   "source": [
    "\n",
    "#create chart in each subplot\n",
    "\n",
    "plt.subplot(2,2,1)\n",
    "\n",
    "sns.distplot(dataset.job.value_counts())\n",
    "plt.xlabel('job')\n",
    "plt.title('job distribution')\n",
    "plt.show()\n",
    "\n",
    "plt.subplot(2,2,2)\n",
    "sns.distplot(dataset.age.value_counts())\n",
    "plt.xlabel('age')\n",
    "plt.title('age distribution')\n",
    "plt.show()\n",
    "\n",
    "plt.subplot(2,2,3)\n",
    "sns.distplot(dataset.y.value_counts())\n",
    "plt.xlabel('output')\n",
    "plt.title('output distribution')\n",
    "plt.show()"
   ]
  },
  {
   "cell_type": "code",
   "execution_count": 7,
   "id": "8ff12d7e",
   "metadata": {
    "execution": {
     "iopub.execute_input": "2023-01-29T06:03:11.212514Z",
     "iopub.status.busy": "2023-01-29T06:03:11.211423Z",
     "iopub.status.idle": "2023-01-29T06:03:11.234082Z",
     "shell.execute_reply": "2023-01-29T06:03:11.233030Z"
    },
    "papermill": {
     "duration": 0.0379,
     "end_time": "2023-01-29T06:03:11.237109",
     "exception": false,
     "start_time": "2023-01-29T06:03:11.199209",
     "status": "completed"
    },
    "tags": []
   },
   "outputs": [],
   "source": [
    "# separating categorical data from numerical data \n",
    "\n",
    "categorical = dataset.iloc[:,[1,2,3,4,6,7,8,10,15,16]]   \n",
    "\n",
    "le = LabelEncoder()  # i don't wanted my columns to be get expanded so i used label encoder instead of onehotencoder,\n",
    "                     # also most of my columns were non binary type.\n",
    "\n",
    "val = [0,1,2,3,4,5,6,7,8,9] \n",
    "\n",
    "\n",
    "for i in val:\n",
    "    categorical.iloc[:,i] = le.fit_transform(categorical.iloc[:,i])\n",
    "\n"
   ]
  },
  {
   "cell_type": "code",
   "execution_count": 8,
   "id": "9e57c958",
   "metadata": {
    "execution": {
     "iopub.execute_input": "2023-01-29T06:03:11.257142Z",
     "iopub.status.busy": "2023-01-29T06:03:11.256602Z",
     "iopub.status.idle": "2023-01-29T06:03:11.267040Z",
     "shell.execute_reply": "2023-01-29T06:03:11.265453Z"
    },
    "papermill": {
     "duration": 0.023392,
     "end_time": "2023-01-29T06:03:11.269376",
     "exception": false,
     "start_time": "2023-01-29T06:03:11.245984",
     "status": "completed"
    },
    "tags": []
   },
   "outputs": [],
   "source": [
    "dataset = dataset.drop(dataset.iloc[:,[1,2,3,4,6,7,8,10,15,16]],axis =1) # dropping the colums which are encoded \n",
    "dataset_new = pd.concat((dataset,categorical),axis =1)"
   ]
  },
  {
   "cell_type": "code",
   "execution_count": 9,
   "id": "4aae6b99",
   "metadata": {
    "execution": {
     "iopub.execute_input": "2023-01-29T06:03:11.289563Z",
     "iopub.status.busy": "2023-01-29T06:03:11.288409Z",
     "iopub.status.idle": "2023-01-29T06:03:11.295528Z",
     "shell.execute_reply": "2023-01-29T06:03:11.294499Z"
    },
    "papermill": {
     "duration": 0.020903,
     "end_time": "2023-01-29T06:03:11.298919",
     "exception": false,
     "start_time": "2023-01-29T06:03:11.278016",
     "status": "completed"
    },
    "tags": []
   },
   "outputs": [],
   "source": [
    "x = dataset_new.iloc[:,:-1]    # dividing into independent and dependent features\n",
    "y = dataset_new['y']"
   ]
  },
  {
   "cell_type": "code",
   "execution_count": 10,
   "id": "af4b250c",
   "metadata": {
    "execution": {
     "iopub.execute_input": "2023-01-29T06:03:11.319018Z",
     "iopub.status.busy": "2023-01-29T06:03:11.317822Z",
     "iopub.status.idle": "2023-01-29T06:03:11.328552Z",
     "shell.execute_reply": "2023-01-29T06:03:11.327185Z"
    },
    "papermill": {
     "duration": 0.02295,
     "end_time": "2023-01-29T06:03:11.330732",
     "exception": false,
     "start_time": "2023-01-29T06:03:11.307782",
     "status": "completed"
    },
    "tags": []
   },
   "outputs": [
    {
     "data": {
      "text/plain": [
       "0    4000\n",
       "1     521\n",
       "Name: y, dtype: int64"
      ]
     },
     "execution_count": 10,
     "metadata": {},
     "output_type": "execute_result"
    }
   ],
   "source": [
    "y.value_counts()"
   ]
  },
  {
   "cell_type": "markdown",
   "id": "10bcd808",
   "metadata": {
    "papermill": {
     "duration": 0.008685,
     "end_time": "2023-01-29T06:03:11.348038",
     "exception": false,
     "start_time": "2023-01-29T06:03:11.339353",
     "status": "completed"
    },
    "tags": []
   },
   "source": [
    "# scaling "
   ]
  },
  {
   "cell_type": "code",
   "execution_count": 11,
   "id": "dc177108",
   "metadata": {
    "execution": {
     "iopub.execute_input": "2023-01-29T06:03:11.367136Z",
     "iopub.status.busy": "2023-01-29T06:03:11.366715Z",
     "iopub.status.idle": "2023-01-29T06:03:11.380327Z",
     "shell.execute_reply": "2023-01-29T06:03:11.379543Z"
    },
    "papermill": {
     "duration": 0.02653,
     "end_time": "2023-01-29T06:03:11.383020",
     "exception": false,
     "start_time": "2023-01-29T06:03:11.356490",
     "status": "completed"
    },
    "tags": []
   },
   "outputs": [],
   "source": [
    "# scaling the independent features using standard scaler\n",
    "\n",
    "from sklearn.preprocessing import StandardScaler\n",
    "\n",
    "sc = StandardScaler()\n",
    "\n",
    "x['balance'] = sc.fit_transform(np.array(x['balance']).reshape(-1,1))\n",
    "x['duration'] = sc.fit_transform(np.array(x['duration']).reshape(-1,1))\n",
    "x['pdays'] = sc.fit_transform(np.array(x['pdays']).reshape(-1,1))\n",
    "x['campaign'] = sc.fit_transform(np.array(x['campaign']).reshape(-1,1))\n",
    "x['previous'] = sc.fit_transform(np.array(x['previous']).reshape(-1,1))\n",
    "\n",
    "\n"
   ]
  },
  {
   "cell_type": "code",
   "execution_count": 12,
   "id": "cace4ccb",
   "metadata": {
    "execution": {
     "iopub.execute_input": "2023-01-29T06:03:11.403932Z",
     "iopub.status.busy": "2023-01-29T06:03:11.403446Z",
     "iopub.status.idle": "2023-01-29T06:03:11.431001Z",
     "shell.execute_reply": "2023-01-29T06:03:11.429579Z"
    },
    "papermill": {
     "duration": 0.041478,
     "end_time": "2023-01-29T06:03:11.433737",
     "exception": false,
     "start_time": "2023-01-29T06:03:11.392259",
     "status": "completed"
    },
    "tags": []
   },
   "outputs": [
    {
     "data": {
      "text/plain": [
       "((3842, 16), (3842,))"
      ]
     },
     "execution_count": 12,
     "metadata": {},
     "output_type": "execute_result"
    }
   ],
   "source": [
    "from sklearn.model_selection import train_test_split\n",
    "x_train,x_test,y_train,y_test = train_test_split(x,y,test_size = 0.15)\n",
    "\n",
    "\n",
    "x_train.shape,y_train.shape"
   ]
  },
  {
   "cell_type": "code",
   "execution_count": null,
   "id": "6b86236e",
   "metadata": {
    "papermill": {
     "duration": 0.008178,
     "end_time": "2023-01-29T06:03:11.450706",
     "exception": false,
     "start_time": "2023-01-29T06:03:11.442528",
     "status": "completed"
    },
    "tags": []
   },
   "outputs": [],
   "source": []
  },
  {
   "cell_type": "markdown",
   "id": "e174f7d7",
   "metadata": {
    "papermill": {
     "duration": 0.007958,
     "end_time": "2023-01-29T06:03:11.466980",
     "exception": false,
     "start_time": "2023-01-29T06:03:11.459022",
     "status": "completed"
    },
    "tags": []
   },
   "source": [
    "# random forest classifier"
   ]
  },
  {
   "cell_type": "code",
   "execution_count": 13,
   "id": "ef909765",
   "metadata": {
    "execution": {
     "iopub.execute_input": "2023-01-29T06:03:11.486104Z",
     "iopub.status.busy": "2023-01-29T06:03:11.485296Z",
     "iopub.status.idle": "2023-01-29T06:03:12.294159Z",
     "shell.execute_reply": "2023-01-29T06:03:12.292415Z"
    },
    "papermill": {
     "duration": 0.821897,
     "end_time": "2023-01-29T06:03:12.297346",
     "exception": false,
     "start_time": "2023-01-29T06:03:11.475449",
     "status": "completed"
    },
    "tags": []
   },
   "outputs": [],
   "source": [
    "# using random forest classifier\n",
    "\n",
    "from sklearn.ensemble import RandomForestClassifier\n",
    "\n",
    "rfclass = RandomForestClassifier()\n",
    "rfclass.fit(x_train,y_train)\n",
    "rf_prediction = rfclass.predict(x_test)"
   ]
  },
  {
   "cell_type": "code",
   "execution_count": 14,
   "id": "5184893d",
   "metadata": {
    "execution": {
     "iopub.execute_input": "2023-01-29T06:03:12.316820Z",
     "iopub.status.busy": "2023-01-29T06:03:12.316306Z",
     "iopub.status.idle": "2023-01-29T06:03:12.335144Z",
     "shell.execute_reply": "2023-01-29T06:03:12.333309Z"
    },
    "papermill": {
     "duration": 0.031964,
     "end_time": "2023-01-29T06:03:12.338080",
     "exception": false,
     "start_time": "2023-01-29T06:03:12.306116",
     "status": "completed"
    },
    "tags": []
   },
   "outputs": [
    {
     "name": "stdout",
     "output_type": "stream",
     "text": [
      "random forest score 0.8910162002945509\n",
      "confusion matrix \n",
      " [[588  17]\n",
      " [ 57  17]]\n",
      "precission 0.5\n",
      "recall 0.22972972972972974\n",
      "f1 score 0.3148148148148148\n",
      "roc auc score  0.6008152780880054\n"
     ]
    }
   ],
   "source": [
    "# accuracy without using feature selection\n",
    "\n",
    "score = accuracy_score(y_test,rf_prediction)\n",
    "\n",
    "print('random forest score',score)\n",
    "\n",
    "print('confusion matrix \\n',confusion_matrix(y_test,rf_prediction))\n",
    "print('precission',precision_score(y_test,rf_prediction))\n",
    "print('recall',recall_score(y_test,rf_prediction))\n",
    "print('f1 score' ,f1_score(y_test,rf_prediction))\n",
    "print('roc auc score ',roc_auc_score(y_test,rf_prediction))"
   ]
  },
  {
   "cell_type": "code",
   "execution_count": null,
   "id": "7222abc4",
   "metadata": {
    "papermill": {
     "duration": 0.008786,
     "end_time": "2023-01-29T06:03:12.356252",
     "exception": false,
     "start_time": "2023-01-29T06:03:12.347466",
     "status": "completed"
    },
    "tags": []
   },
   "outputs": [],
   "source": []
  },
  {
   "cell_type": "markdown",
   "id": "2f783499",
   "metadata": {
    "papermill": {
     "duration": 0.008334,
     "end_time": "2023-01-29T06:03:12.373468",
     "exception": false,
     "start_time": "2023-01-29T06:03:12.365134",
     "status": "completed"
    },
    "tags": []
   },
   "source": [
    "# training only with selected features"
   ]
  },
  {
   "cell_type": "code",
   "execution_count": 15,
   "id": "64a75073",
   "metadata": {
    "execution": {
     "iopub.execute_input": "2023-01-29T06:03:12.393151Z",
     "iopub.status.busy": "2023-01-29T06:03:12.392673Z",
     "iopub.status.idle": "2023-01-29T06:03:12.577860Z",
     "shell.execute_reply": "2023-01-29T06:03:12.576876Z"
    },
    "papermill": {
     "duration": 0.197514,
     "end_time": "2023-01-29T06:03:12.579715",
     "exception": false,
     "start_time": "2023-01-29T06:03:12.382201",
     "status": "completed"
    },
    "tags": []
   },
   "outputs": [
    {
     "name": "stdout",
     "output_type": "stream",
     "text": [
      "Feature: 0, Score: 0.10086\n",
      "Feature: 1, Score: 0.10917\n",
      "Feature: 2, Score: 0.09263\n",
      "Feature: 3, Score: 0.29550\n",
      "Feature: 4, Score: 0.03960\n",
      "Feature: 5, Score: 0.05275\n",
      "Feature: 6, Score: 0.02942\n",
      "Feature: 7, Score: 0.05086\n",
      "Feature: 8, Score: 0.02349\n",
      "Feature: 9, Score: 0.02861\n",
      "Feature: 10, Score: 0.00265\n",
      "Feature: 11, Score: 0.01986\n",
      "Feature: 12, Score: 0.00994\n",
      "Feature: 13, Score: 0.01866\n",
      "Feature: 14, Score: 0.08104\n",
      "Feature: 15, Score: 0.04495\n"
     ]
    },
    {
     "data": {
      "image/png": "[encoded data removed]",
      "text/plain": [
       "<Figure size 432x288 with 1 Axes>"
      ]
     },
     "metadata": {
      "needs_background": "light"
     },
     "output_type": "display_data"
    }
   ],
   "source": [
    "# checking feature importance of model\n",
    "\n",
    "importance = rfclass.feature_importances_\n",
    "\n",
    "for i,v in enumerate(importance):\n",
    "    print('Feature: %0d, Score: %.5f' % (i,v))\n",
    "# plot feature importance\n",
    "plt.bar([x for x in range(len(importance))], importance)\n",
    "plt.show()"
   ]
  },
  {
   "cell_type": "code",
   "execution_count": 16,
   "id": "54f6e5b5",
   "metadata": {
    "execution": {
     "iopub.execute_input": "2023-01-29T06:03:12.601085Z",
     "iopub.status.busy": "2023-01-29T06:03:12.599740Z",
     "iopub.status.idle": "2023-01-29T06:03:13.133569Z",
     "shell.execute_reply": "2023-01-29T06:03:13.132062Z"
    },
    "papermill": {
     "duration": 0.547592,
     "end_time": "2023-01-29T06:03:13.136560",
     "exception": false,
     "start_time": "2023-01-29T06:03:12.588968",
     "status": "completed"
    },
    "tags": []
   },
   "outputs": [
    {
     "name": "stdout",
     "output_type": "stream",
     "text": [
      "random forest feature selected score  0.8998527245949927\n"
     ]
    }
   ],
   "source": [
    "# traing model on the features which are having high contribution in accuracy \n",
    "\n",
    "x_new = x.iloc[:,[0,1,2,3,5,7,14,15]]\n",
    "x_train,x_test,y_train,y_test = train_test_split(x_new,y,test_size = 0.15)\n",
    "\n",
    "rf_new = RandomForestClassifier()\n",
    "rf_new.fit(x_train,y_train)\n",
    "\n",
    "prediction = rf_new.predict(x_test)\n",
    "score = accuracy_score(y_test,prediction)\n",
    "print('random forest feature selected score ',score)  # we can clearly see that by using feature selection our accuracy got increased"
   ]
  },
  {
   "cell_type": "code",
   "execution_count": 17,
   "id": "05f4d402",
   "metadata": {
    "execution": {
     "iopub.execute_input": "2023-01-29T06:03:13.157092Z",
     "iopub.status.busy": "2023-01-29T06:03:13.156625Z",
     "iopub.status.idle": "2023-01-29T06:03:13.171226Z",
     "shell.execute_reply": "2023-01-29T06:03:13.169710Z"
    },
    "papermill": {
     "duration": 0.027716,
     "end_time": "2023-01-29T06:03:13.173726",
     "exception": false,
     "start_time": "2023-01-29T06:03:13.146010",
     "status": "completed"
    },
    "tags": []
   },
   "outputs": [
    {
     "name": "stdout",
     "output_type": "stream",
     "text": [
      "confusion matrix \n",
      " [[586  13]\n",
      " [ 55  25]]\n",
      "precission 0.6578947368421053\n",
      "recall 0.3125\n",
      "f1 score 0.42372881355932207\n",
      "roc auc score  0.6453985809682804\n"
     ]
    }
   ],
   "source": [
    "print('confusion matrix \\n',confusion_matrix(y_test,prediction))\n",
    "print('precission',precision_score(y_test,prediction))\n",
    "print('recall',recall_score(y_test,prediction))\n",
    "print('f1 score' ,f1_score(y_test,prediction))\n",
    "print('roc auc score ',roc_auc_score(y_test,prediction))"
   ]
  },
  {
   "cell_type": "markdown",
   "id": "1f65f1fc",
   "metadata": {
    "papermill": {
     "duration": 0.009057,
     "end_time": "2023-01-29T06:03:13.192305",
     "exception": false,
     "start_time": "2023-01-29T06:03:13.183248",
     "status": "completed"
    },
    "tags": []
   },
   "source": [
    "# cross validation using randomized search cv to overcome overfitting"
   ]
  },
  {
   "cell_type": "code",
   "execution_count": 18,
   "id": "ae0da117",
   "metadata": {
    "execution": {
     "iopub.execute_input": "2023-01-29T06:03:13.213485Z",
     "iopub.status.busy": "2023-01-29T06:03:13.213019Z",
     "iopub.status.idle": "2023-01-29T06:03:13.221290Z",
     "shell.execute_reply": "2023-01-29T06:03:13.220260Z"
    },
    "papermill": {
     "duration": 0.022354,
     "end_time": "2023-01-29T06:03:13.223910",
     "exception": false,
     "start_time": "2023-01-29T06:03:13.201556",
     "status": "completed"
    },
    "tags": []
   },
   "outputs": [
    {
     "name": "stdout",
     "output_type": "stream",
     "text": [
      "CPU times: user 281 µs, sys: 78 µs, total: 359 µs\n",
      "Wall time: 337 µs\n"
     ]
    }
   ],
   "source": [
    "%%time\n",
    "\n",
    "from sklearn.model_selection import RandomizedSearchCV\n",
    "\n",
    "# Number of trees in random forest\n",
    "n_estimators = [int(x) for x in np.linspace(start = 20, stop = 100, num = 4)]\n",
    "# Number of features to consider at every split\n",
    "max_features = ['auto', 'sqrt']\n",
    "# Maximum number of levels in tree\n",
    "max_depth = [int(x) for x in np.linspace(10, 50, num = 6)]\n",
    "max_depth.append(None)\n",
    "# Minimum number of samples required to split a node\n",
    "min_samples_split = [2, 5, 10]\n",
    "# Minimum number of samples required at each leaf node\n",
    "min_samples_leaf = [1, 2, 4]\n",
    "# Method of selecting samples for training each tree\n",
    "bootstrap = [True, False]\n",
    "# Create the random grid\n",
    "random_grid = {'n_estimators': n_estimators,\n",
    "               'max_features': max_features,\n",
    "               'max_depth': max_depth,\n",
    "               'min_samples_split': min_samples_split,\n",
    "               'min_samples_leaf': min_samples_leaf,\n",
    "               'bootstrap': bootstrap}"
   ]
  },
  {
   "cell_type": "code",
   "execution_count": 19,
   "id": "c79bb4c5",
   "metadata": {
    "execution": {
     "iopub.execute_input": "2023-01-29T06:03:13.244763Z",
     "iopub.status.busy": "2023-01-29T06:03:13.244284Z",
     "iopub.status.idle": "2023-01-29T06:03:13.249572Z",
     "shell.execute_reply": "2023-01-29T06:03:13.248674Z"
    },
    "papermill": {
     "duration": 0.019079,
     "end_time": "2023-01-29T06:03:13.252412",
     "exception": false,
     "start_time": "2023-01-29T06:03:13.233333",
     "status": "completed"
    },
    "tags": []
   },
   "outputs": [],
   "source": [
    "rf_random = RandomizedSearchCV(estimator = rfclass, param_distributions = random_grid, n_iter = 10, cv = 3, verbose=2, random_state=42, n_jobs = -1)"
   ]
  },
  {
   "cell_type": "code",
   "execution_count": 20,
   "id": "70d10336",
   "metadata": {
    "execution": {
     "iopub.execute_input": "2023-01-29T06:03:13.274083Z",
     "iopub.status.busy": "2023-01-29T06:03:13.273323Z",
     "iopub.status.idle": "2023-01-29T06:03:17.177914Z",
     "shell.execute_reply": "2023-01-29T06:03:17.176029Z"
    },
    "papermill": {
     "duration": 3.918089,
     "end_time": "2023-01-29T06:03:17.180233",
     "exception": false,
     "start_time": "2023-01-29T06:03:13.262144",
     "status": "completed"
    },
    "tags": []
   },
   "outputs": [
    {
     "name": "stdout",
     "output_type": "stream",
     "text": [
      "Fitting 3 folds for each of 10 candidates, totalling 30 fits\n",
      "CPU times: user 498 ms, sys: 58.2 ms, total: 556 ms\n",
      "Wall time: 3.89 s\n"
     ]
    },
    {
     "data": {
      "text/plain": [
       "RandomizedSearchCV(cv=3, estimator=RandomForestClassifier(), n_jobs=-1,\n",
       "                   param_distributions={'bootstrap': [True, False],\n",
       "                                        'max_depth': [10, 18, 26, 34, 42, 50,\n",
       "                                                      None],\n",
       "                                        'max_features': ['auto', 'sqrt'],\n",
       "                                        'min_samples_leaf': [1, 2, 4],\n",
       "                                        'min_samples_split': [2, 5, 10],\n",
       "                                        'n_estimators': [20, 46, 73, 100]},\n",
       "                   random_state=42, verbose=2)"
      ]
     },
     "execution_count": 20,
     "metadata": {},
     "output_type": "execute_result"
    }
   ],
   "source": [
    "%%time\n",
    "rf_random.fit(x_train, y_train)"
   ]
  },
  {
   "cell_type": "code",
   "execution_count": 21,
   "id": "40a2acae",
   "metadata": {
    "execution": {
     "iopub.execute_input": "2023-01-29T06:03:17.200847Z",
     "iopub.status.busy": "2023-01-29T06:03:17.200370Z",
     "iopub.status.idle": "2023-01-29T06:03:17.207248Z",
     "shell.execute_reply": "2023-01-29T06:03:17.206368Z"
    },
    "papermill": {
     "duration": 0.019866,
     "end_time": "2023-01-29T06:03:17.209340",
     "exception": false,
     "start_time": "2023-01-29T06:03:17.189474",
     "status": "completed"
    },
    "tags": []
   },
   "outputs": [
    {
     "data": {
      "text/plain": [
       "{'n_estimators': 73,\n",
       " 'min_samples_split': 5,\n",
       " 'min_samples_leaf': 4,\n",
       " 'max_features': 'auto',\n",
       " 'max_depth': 18,\n",
       " 'bootstrap': True}"
      ]
     },
     "execution_count": 21,
     "metadata": {},
     "output_type": "execute_result"
    }
   ],
   "source": [
    "rf_random.best_params_"
   ]
  },
  {
   "cell_type": "code",
   "execution_count": 22,
   "id": "738f14a2",
   "metadata": {
    "execution": {
     "iopub.execute_input": "2023-01-29T06:03:17.230210Z",
     "iopub.status.busy": "2023-01-29T06:03:17.229744Z",
     "iopub.status.idle": "2023-01-29T06:03:17.704173Z",
     "shell.execute_reply": "2023-01-29T06:03:17.703033Z"
    },
    "papermill": {
     "duration": 0.487325,
     "end_time": "2023-01-29T06:03:17.706169",
     "exception": false,
     "start_time": "2023-01-29T06:03:17.218844",
     "status": "completed"
    },
    "tags": []
   },
   "outputs": [
    {
     "data": {
      "text/plain": [
       "RandomForestClassifier(max_depth=15)"
      ]
     },
     "execution_count": 22,
     "metadata": {},
     "output_type": "execute_result"
    }
   ],
   "source": [
    "random= RandomForestClassifier(n_estimators = 100,min_samples_split= 2,min_samples_leaf= 1,max_features= 'auto',max_depth= 15,bootstrap= True)\n",
    "random.fit(x_train,y_train)"
   ]
  },
  {
   "cell_type": "code",
   "execution_count": 23,
   "id": "2009f6b2",
   "metadata": {
    "execution": {
     "iopub.execute_input": "2023-01-29T06:03:17.726573Z",
     "iopub.status.busy": "2023-01-29T06:03:17.726192Z",
     "iopub.status.idle": "2023-01-29T06:03:17.762242Z",
     "shell.execute_reply": "2023-01-29T06:03:17.761319Z"
    },
    "papermill": {
     "duration": 0.0483,
     "end_time": "2023-01-29T06:03:17.764129",
     "exception": false,
     "start_time": "2023-01-29T06:03:17.715829",
     "status": "completed"
    },
    "tags": []
   },
   "outputs": [
    {
     "name": "stdout",
     "output_type": "stream",
     "text": [
      "cross val accuracy score 0.9101620029455081\n",
      "confusion matrix \n",
      " [[587  12]\n",
      " [ 49  31]]\n",
      "precission 0.7209302325581395\n",
      "recall 0.3875\n",
      "f1 score 0.5040650406504065\n",
      "roc auc score  0.6837333055091819\n"
     ]
    }
   ],
   "source": [
    "pred = random.predict(x_test)\n",
    "score = accuracy_score(y_test,pred)\n",
    "print('cross val accuracy score',score)\n",
    "\n",
    "print('confusion matrix \\n',confusion_matrix(y_test,pred))\n",
    "print('precission',precision_score(y_test,pred))\n",
    "print('recall',recall_score(y_test,pred))\n",
    "print('f1 score' ,f1_score(y_test,pred))\n",
    "print('roc auc score ',roc_auc_score(y_test,pred))"
   ]
  },
  {
   "cell_type": "code",
   "execution_count": null,
   "id": "85963ded",
   "metadata": {
    "papermill": {
     "duration": 0.009075,
     "end_time": "2023-01-29T06:03:17.782829",
     "exception": false,
     "start_time": "2023-01-29T06:03:17.773754",
     "status": "completed"
    },
    "tags": []
   },
   "outputs": [],
   "source": []
  },
  {
   "cell_type": "markdown",
   "id": "9381564e",
   "metadata": {
    "papermill": {
     "duration": 0.008985,
     "end_time": "2023-01-29T06:03:17.800990",
     "exception": false,
     "start_time": "2023-01-29T06:03:17.792005",
     "status": "completed"
    },
    "tags": []
   },
   "source": [
    "# logistic regression "
   ]
  },
  {
   "cell_type": "code",
   "execution_count": 24,
   "id": "c61c92c9",
   "metadata": {
    "execution": {
     "iopub.execute_input": "2023-01-29T06:03:17.821460Z",
     "iopub.status.busy": "2023-01-29T06:03:17.821053Z",
     "iopub.status.idle": "2023-01-29T06:03:17.862709Z",
     "shell.execute_reply": "2023-01-29T06:03:17.861578Z"
    },
    "papermill": {
     "duration": 0.055309,
     "end_time": "2023-01-29T06:03:17.865462",
     "exception": false,
     "start_time": "2023-01-29T06:03:17.810153",
     "status": "completed"
    },
    "tags": []
   },
   "outputs": [
    {
     "name": "stdout",
     "output_type": "stream",
     "text": [
      "accuracy score 0.8924889543446245\n",
      "confusion matrix \n",
      " [[594   5]\n",
      " [ 68  12]]\n",
      "precission 0.7058823529411765\n",
      "recall 0.15\n",
      "f1 score 0.24742268041237112\n",
      "roc auc score  0.5708263772954926\n"
     ]
    }
   ],
   "source": [
    "from sklearn.linear_model import LogisticRegression\n",
    "\n",
    "lr = LogisticRegression(C=1.0, class_weight=None, dual=False, fit_intercept=True,intercept_scaling=1, l1_ratio=None, max_iter=100,  \n",
    "                   multi_class='ovr', n_jobs=None, penalty='l2',  \n",
    "                   random_state=42, solver='liblinear', tol=0.0001, verbose=0,  \n",
    "                   warm_start=False)\n",
    "lr.fit(x_train,y_train)\n",
    "lr_predict = lr.predict(x_test)\n",
    "score = accuracy_score(y_test,lr_predict)\n",
    "print('accuracy score',score)\n",
    "\n",
    "print('confusion matrix \\n',confusion_matrix(y_test,lr_predict))\n",
    "print('precission',precision_score(y_test,lr_predict))\n",
    "print('recall',recall_score(y_test,lr_predict))\n",
    "print('f1 score' ,f1_score(y_test,lr_predict))\n",
    "print('roc auc score ',roc_auc_score(y_test,lr_predict))\n"
   ]
  },
  {
   "cell_type": "code",
   "execution_count": null,
   "id": "6771149f",
   "metadata": {
    "papermill": {
     "duration": 0.009092,
     "end_time": "2023-01-29T06:03:17.884494",
     "exception": false,
     "start_time": "2023-01-29T06:03:17.875402",
     "status": "completed"
    },
    "tags": []
   },
   "outputs": [],
   "source": []
  },
  {
   "cell_type": "markdown",
   "id": "08028b88",
   "metadata": {
    "papermill": {
     "duration": 0.009115,
     "end_time": "2023-01-29T06:03:17.902890",
     "exception": false,
     "start_time": "2023-01-29T06:03:17.893775",
     "status": "completed"
    },
    "tags": []
   },
   "source": [
    "# gradient boosting classifier"
   ]
  },
  {
   "cell_type": "code",
   "execution_count": 25,
   "id": "0a2c2448",
   "metadata": {
    "execution": {
     "iopub.execute_input": "2023-01-29T06:03:17.923484Z",
     "iopub.status.busy": "2023-01-29T06:03:17.923064Z",
     "iopub.status.idle": "2023-01-29T06:03:19.777879Z",
     "shell.execute_reply": "2023-01-29T06:03:19.776071Z"
    },
    "papermill": {
     "duration": 1.868345,
     "end_time": "2023-01-29T06:03:19.780421",
     "exception": false,
     "start_time": "2023-01-29T06:03:17.912076",
     "status": "completed"
    },
    "tags": []
   },
   "outputs": [
    {
     "name": "stdout",
     "output_type": "stream",
     "text": [
      "accuracy score 0.8939617083946981\n",
      "confusion matrix \n",
      " [[575  24]\n",
      " [ 48  32]]\n",
      "precission 0.5714285714285714\n",
      "recall 0.4\n",
      "f1 score 0.47058823529411764\n",
      "roc auc score  0.6799666110183639\n"
     ]
    }
   ],
   "source": [
    "from sklearn.ensemble import GradientBoostingClassifier\n",
    "\n",
    "clf = GradientBoostingClassifier(n_estimators=100, learning_rate=0.25,max_depth=10, random_state=0).fit(x_train, y_train)\n",
    "gb_predict = clf.predict(x_test)\n",
    "score = accuracy_score(y_test,gb_predict)\n",
    "print('accuracy score' ,score)\n",
    "\n",
    "print('confusion matrix \\n',confusion_matrix(y_test,gb_predict))\n",
    "print('precission',precision_score(y_test,gb_predict))\n",
    "print('recall',recall_score(y_test,gb_predict))\n",
    "print('f1 score' ,f1_score(y_test,gb_predict))\n",
    "print('roc auc score ',roc_auc_score(y_test,gb_predict))\n"
   ]
  }
 ],
 "metadata": {
  "kernelspec": {
   "display_name": "Python 3",
   "language": "python",
   "name": "python3"
  },
  "language_info": {
   "codemirror_mode": {
    "name": "ipython",
    "version": 3
   },
   "file_extension": ".py",
   "mimetype": "text/x-python",
   "name": "python",
   "nbconvert_exporter": "python",
   "pygments_lexer": "ipython3",
   "version": "3.7.12"
  },
  "papermill": {
   "default_parameters": {},
   "duration": 21.474431,
   "end_time": "2023-01-29T06:03:22.414369",
   "environment_variables": {},
   "exception": null,
   "input_path": "__notebook__.ipynb",
   "output_path": "__notebook__.ipynb",
   "parameters": {},
   "start_time": "2023-01-29T06:03:00.939938",
   "version": "2.3.4"
  }
 },
 "nbformat": 4,
 "nbformat_minor": 5
}
